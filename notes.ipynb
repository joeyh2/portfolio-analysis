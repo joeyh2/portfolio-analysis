{
 "cells": [
  {
   "cell_type": "code",
   "execution_count": null,
   "id": "40aaf088-1cd3-4925-be18-2fdb9c145936",
   "metadata": {},
   "outputs": [],
   "source": [
    "greeting = input(\"Say Hello!\")\n",
    "if greeting == 'Hello':\n",
    "    print (\"Hello, World!\")"
   ]
  },
  {
   "cell_type": "code",
   "execution_count": null,
   "id": "34026f34-999a-4a77-bc84-a5669b16dbc1",
   "metadata": {},
   "outputs": [],
   "source": [
    "print(\"\"\"Task\n",
    "Given an integer, n, perform the following conditional actions:\n",
    "\n",
    "If  is odd, print Weird\n",
    "If  is even and in the inclusive range of  to , print Not Weird\n",
    "If  is even and in the inclusive range of  to , print Weird\n",
    "If  is even and greater than , print Not Weird\"\"\")"
   ]
  },
  {
   "cell_type": "code",
   "execution_count": 2,
   "id": "41c97de3-ade5-4e92-8fbb-644a7779c0e6",
   "metadata": {},
   "outputs": [
    {
     "name": "stdin",
     "output_type": "stream",
     "text": [
      " 20\n"
     ]
    },
    {
     "name": "stdout",
     "output_type": "stream",
     "text": [
      "Wierd\n"
     ]
    }
   ],
   "source": [
    "if __name__ == '__main__': \n",
    "    n = int(input().strip())\n",
    "if n%2 ==1:\n",
    "    print(\"Weird\")\n",
    "elif n>=2 and n<=5:\n",
    "    print(\"Not Weird\")\n",
    "elif n>=6 and n<=20:\n",
    "        print(\"Wierd\")\n",
    "else: \n",
    "    print(\"Not Weird\")"
   ]
  },
  {
   "cell_type": "code",
   "execution_count": 11,
   "id": "522fe3bf-a2df-4dc4-9e37-9f195019b145",
   "metadata": {},
   "outputs": [
    {
     "name": "stdin",
     "output_type": "stream",
     "text": [
      " 18\n"
     ]
    },
    {
     "name": "stdout",
     "output_type": "stream",
     "text": [
      "Weird\n"
     ]
    }
   ],
   "source": [
    "n = int(input().strip())\n",
    "\n",
    "if n%2==0 and (n in range(2,6) or n>20):\n",
    "    print (\"Not Weird\")\n",
    "else:\n",
    "    print(\"Weird\")"
   ]
  },
  {
   "cell_type": "code",
   "execution_count": 3,
   "id": "bdd3a5b1-889a-47f2-9b0b-d044ba77376a",
   "metadata": {},
   "outputs": [
    {
     "name": "stdin",
     "output_type": "stream",
     "text": [
      " 20\n"
     ]
    },
    {
     "name": "stdout",
     "output_type": "stream",
     "text": [
      "Weird\n"
     ]
    }
   ],
   "source": [
    "if __name__ == '__main__':\n",
    "    n = int(input().strip())\n",
    "if n%2!=0:\n",
    "    print(\"Weird\")\n",
    "elif n%2==0 and (n>= 2 and n<6):\n",
    "    print(\"Not Weird\")\n",
    "elif n%2==0 and (n>6 and n<21):\n",
    "    print(\"Weird\")\n",
    "else:\n",
    "    print(\"Not Weird\")"
   ]
  },
  {
   "cell_type": "code",
   "execution_count": 4,
   "id": "5441c8fc-0342-4d46-bc7d-3744185385b3",
   "metadata": {},
   "outputs": [
    {
     "name": "stdin",
     "output_type": "stream",
     "text": [
      " 20\n"
     ]
    },
    {
     "name": "stdout",
     "output_type": "stream",
     "text": [
      "Weird\n"
     ]
    }
   ],
   "source": [
    "if __name__ == '__main__':\n",
    "    n = int(input().strip())\n",
    "if n%2!=0:\n",
    "    print(\"Weird\")\n",
    "elif n%2==0 and (n>= 2 and n<=5):\n",
    "    print(\"Not Weird\")\n",
    "elif n%2==0 and (n>6 and n<=20):\n",
    "    print(\"Weird\")\n",
    "else:\n",
    "    print(\"Not Weird\")"
   ]
  },
  {
   "cell_type": "code",
   "execution_count": null,
   "id": "6378a53b-42b9-43d0-8f18-c31fd2b33567",
   "metadata": {},
   "outputs": [],
   "source": []
  }
 ],
 "metadata": {
  "kernelspec": {
   "display_name": "Python 3",
   "language": "python",
   "name": "python3"
  },
  "language_info": {
   "codemirror_mode": {
    "name": "ipython",
    "version": 3
   },
   "file_extension": ".py",
   "mimetype": "text/x-python",
   "name": "python",
   "nbconvert_exporter": "python",
   "pygments_lexer": "ipython3",
   "version": "3.7.10"
  }
 },
 "nbformat": 4,
 "nbformat_minor": 5
}
